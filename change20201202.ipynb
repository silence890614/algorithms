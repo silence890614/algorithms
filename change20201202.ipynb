{
  "nbformat": 4,
  "nbformat_minor": 0,
  "metadata": {
    "colab": {
      "name": "change20201202",
      "provenance": [],
      "authorship_tag": "ABX9TyNFGEdJUBr5KYCsYpcQO8lB",
      "include_colab_link": true
    },
    "kernelspec": {
      "name": "python3",
      "display_name": "Python 3"
    }
  },
  "cells": [
    {
      "cell_type": "markdown",
      "metadata": {
        "id": "view-in-github",
        "colab_type": "text"
      },
      "source": [
        "<a href=\"https://colab.research.google.com/github/silence890614/algorithms/blob/master/change20201202.ipynb\" target=\"_parent\"><img src=\"https://colab.research.google.com/assets/colab-badge.svg\" alt=\"Open In Colab\"/></a>"
      ]
    },
    {
      "cell_type": "code",
      "metadata": {
        "id": "_iW4BBOhJz93"
      },
      "source": [
        "#t = 面額\n",
        "t = [25,20,5,1]\n",
        "\n",
        "n = input(\"輸入面額\")\n",
        "n = int(n)\n",
        "#n = 多少錢\n",
        "def change(t,n):\n",
        "          m = [0 for _ in range(len(t))]\n",
        "          for i, money in enumerate(t):\n",
        "                    m[i] = n//money\n",
        "                    n = n % money\n",
        "                    print(\"第\",i+1,\"次:\",m)\n",
        "          if n == 0:\n",
        "                   print(\"付完了\") \n",
        "       \n",
        "print(change(t,n)) \n"
      ],
      "execution_count": null,
      "outputs": []
    }
  ]
}