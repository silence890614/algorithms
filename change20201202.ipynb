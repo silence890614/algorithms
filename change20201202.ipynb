{
  "nbformat": 4,
  "nbformat_minor": 0,
  "metadata": {
    "colab": {
      "name": "change20201202",
      "provenance": [],
      "authorship_tag": "ABX9TyOlyAoWMVYxzpZ8dqNP7Aop",
      "include_colab_link": true
    },
    "kernelspec": {
      "name": "python3",
      "display_name": "Python 3"
    }
  },
  "cells": [
    {
      "cell_type": "markdown",
      "metadata": {
        "id": "view-in-github",
        "colab_type": "text"
      },
      "source": [
        "<a href=\"https://colab.research.google.com/github/silence890614/algorithms/blob/master/change20201202.ipynb\" target=\"_parent\"><img src=\"https://colab.research.google.com/assets/colab-badge.svg\" alt=\"Open In Colab\"/></a>"
      ]
    },
    {
      "cell_type": "code",
      "metadata": {
        "id": "_iW4BBOhJz93"
      },
      "source": [
        "#貪婪法面額\n",
        "#t = 面額\n",
        "t = [25,20,5,1]\n",
        "\n",
        "n = input(\"輸入面額\")\n",
        "n = int(n)\n",
        "#n = 多少錢\n",
        "def change(t,n):\n",
        "          m = [0 for _ in range(len(t))]\n",
        "          for i, money in enumerate(t):\n",
        "                    m[i] = n//money\n",
        "                    n = n % money\n",
        "                    print(\"第\",i+1,\"次:\",m)\n",
        "          if n == 0:\n",
        "                   print(\"付完了\") \n",
        "       \n",
        "print(change(t,n)) \n"
      ],
      "execution_count": null,
      "outputs": []
    },
    {
      "cell_type": "code",
      "metadata": {
        "id": "Vi5nkYeEXp1c",
        "outputId": "33d60d05-71a4-413a-d76d-dd158a3ad5a7",
        "colab": {
          "base_uri": "https://localhost:8080/"
        }
      },
      "source": [
        "#DP法面額\n",
        "#t = 面額\n",
        "t = [25,20,5,1]\n",
        "\n",
        "n = input(\"輸入面額\")\n",
        "n = int(n)\n",
        "#n = 多少錢\n",
        "def change(n):\n",
        "          h = []\n",
        "          \n",
        "          ans1 = n//25\n",
        "          h.append(ans1)\n",
        "          n1 = n-(ans1*25)\n",
        "          \n",
        "          ans2 = n1//20\n",
        "          h.append(ans2)\n",
        "          n2 = n1-(ans2*20)\n",
        "          \n",
        "          ans3 = n2//5\n",
        "          h.append(ans3)\n",
        "          n3 = n2-(ans3*5)\n",
        "          \n",
        "          ans4 = n3//1\n",
        "          h.append(ans4)\n",
        "          print(h)\n",
        "          \n",
        "           \n",
        "       \n",
        "print(change(n)) \n"
      ],
      "execution_count": 3,
      "outputs": [
        {
          "output_type": "stream",
          "text": [
            "輸入面額40\n",
            "[1, 0, 3, 0]\n",
            "None\n"
          ],
          "name": "stdout"
        }
      ]
    },
    {
      "cell_type": "code",
      "metadata": {
        "id": "Dj98kS5CX9Kl",
        "outputId": "69aae5f0-4f4f-4b4a-9587-bc2281f9b3ef",
        "colab": {
          "base_uri": "https://localhost:8080/"
        }
      },
      "source": [
        "#貪婪法小偷\n",
        "list = [[60000,4],[35000,1],[20000,2],[17000,5],[9000,3]]\n",
        "def stole(a,b):\n",
        "  m = [0 for _ in range(len(a))]\n",
        "  total = 0\n",
        "  for i in range(len(a)):\n",
        "    if  a[i][1] <= b:\n",
        "      b = b - a[i][1]\n",
        "      m[i] = 1\n",
        "      total = total + a[i][0]\n",
        "    print(m,\"剩餘載量:\",b,\"kg\")\n",
        "    print(\"總價值:\",total)\n",
        "\n",
        "print(stole(list,10))\n"
      ],
      "execution_count": 2,
      "outputs": [
        {
          "output_type": "stream",
          "text": [
            "[1, 0, 0, 0, 0] 剩餘載量: 6 kg\n",
            "總價值: 60000\n",
            "[1, 1, 0, 0, 0] 剩餘載量: 5 kg\n",
            "總價值: 95000\n",
            "[1, 1, 1, 0, 0] 剩餘載量: 3 kg\n",
            "總價值: 115000\n",
            "[1, 1, 1, 0, 0] 剩餘載量: 3 kg\n",
            "總價值: 115000\n",
            "[1, 1, 1, 0, 1] 剩餘載量: 0 kg\n",
            "總價值: 124000\n",
            "None\n"
          ],
          "name": "stdout"
        }
      ]
    },
    {
      "cell_type": "code",
      "metadata": {
        "id": "iqt5xPm2fvwf",
        "outputId": "ef71437a-e772-49bf-cd63-502e60635efb",
        "colab": {
          "base_uri": "https://localhost:8080/"
        }
      },
      "source": [
        "#DP法小偷\n",
        "list = [[60000,4],[35000,1],[20000,2],[17000,5],[9000,3]]\n",
        "n = 10\n",
        "def steal():\n",
        "  h = []\n",
        "  b = 0\n",
        "\n",
        "  a1 = list[0][0]\n",
        "  if b<=n:\n",
        "    b ="
      ],
      "execution_count": 4,
      "outputs": [
        {
          "output_type": "stream",
          "text": [
            "[[ 0.  0.  0.  0.  0.  0.  0.  0.  0.]\n",
            " [ 0.  0.  3.  3.  3.  3.  3.  3.  3.]\n",
            " [ 0.  0.  3.  4.  4.  7.  7.  7.  7.]\n",
            " [ 0.  0.  3.  4.  5.  7.  8.  9.  9.]\n",
            " [ 0.  0.  3.  4.  5.  7.  8.  9. 10.]]\n",
            "[0, 0, 1, 0, 1]\n"
          ],
          "name": "stdout"
        }
      ]
    }
  ]
}