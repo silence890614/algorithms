{
  "nbformat": 4,
  "nbformat_minor": 0,
  "metadata": {
    "colab": {
      "name": "insertionsort.ipynb",
      "provenance": [],
      "collapsed_sections": [],
      "include_colab_link": true
    },
    "kernelspec": {
      "name": "python3",
      "display_name": "Python 3"
    }
  },
  "cells": [
    {
      "cell_type": "markdown",
      "metadata": {
        "id": "view-in-github",
        "colab_type": "text"
      },
      "source": [
        "<a href=\"https://colab.research.google.com/github/silence890614/algorithms/blob/master/insertionsort.ipynb\" target=\"_parent\"><img src=\"https://colab.research.google.com/assets/colab-badge.svg\" alt=\"Open In Colab\"/></a>"
      ]
    },
    {
      "cell_type": "markdown",
      "metadata": {
        "id": "j95w6SLwOC0z",
        "colab_type": "text"
      },
      "source": [
        "Insertion sort (插入排序)"
      ]
    },
    {
      "cell_type": "code",
      "metadata": {
        "id": "BxBaYEwzNj_v",
        "colab_type": "code",
        "colab": {
          "base_uri": "https://localhost:8080/",
          "height": 306
        },
        "outputId": "ca5b8d44-8596-460f-8329-dfb4a083a5cf"
      },
      "source": [
        "\n",
        "def Insertion_Sort(datas):\n",
        "    for i in range(1, len(datas)):  # \n",
        "        for j in range(i):\n",
        "            current = datas[i]\n",
        "            if current < datas[j]:\n",
        "                for k in range(i,j):\n",
        "                  print(datas)\n",
        "    return datas\n",
        "\n",
        "\n",
        "def insertionSort(arr):\n",
        "    for i in range(len(arr)):\n",
        "        preIndex = i-1\n",
        "        current = arr[i]\n",
        "        while preIndex >= 0 and arr[preIndex] > current:\n",
        "            arr[preIndex+1] = arr[preIndex]\n",
        "            preIndex-=1\n",
        "        arr[preIndex+1] = current\n",
        "        print(arr)\n",
        "    return arr\n",
        "\n",
        "if __name__ == '__main__':\n",
        "    import random\n",
        "    a = list(range(16))\n",
        "    random.shuffle(a)\n",
        "    b = a.copy()\n",
        "\n",
        "    arr = insertionSort(a)\n",
        "    print('---'*16)\n",
        "    Insertion_Sort(b)"
      ],
      "execution_count": 3,
      "outputs": [
        {
          "output_type": "stream",
          "text": [
            "[14, 9, 12, 6, 7, 10, 8, 3, 1, 13, 0, 4, 15, 11, 2, 5]\n",
            "[9, 14, 12, 6, 7, 10, 8, 3, 1, 13, 0, 4, 15, 11, 2, 5]\n",
            "[9, 12, 14, 6, 7, 10, 8, 3, 1, 13, 0, 4, 15, 11, 2, 5]\n",
            "[6, 9, 12, 14, 7, 10, 8, 3, 1, 13, 0, 4, 15, 11, 2, 5]\n",
            "[6, 7, 9, 12, 14, 10, 8, 3, 1, 13, 0, 4, 15, 11, 2, 5]\n",
            "[6, 7, 9, 10, 12, 14, 8, 3, 1, 13, 0, 4, 15, 11, 2, 5]\n",
            "[6, 7, 8, 9, 10, 12, 14, 3, 1, 13, 0, 4, 15, 11, 2, 5]\n",
            "[3, 6, 7, 8, 9, 10, 12, 14, 1, 13, 0, 4, 15, 11, 2, 5]\n",
            "[1, 3, 6, 7, 8, 9, 10, 12, 14, 13, 0, 4, 15, 11, 2, 5]\n",
            "[1, 3, 6, 7, 8, 9, 10, 12, 13, 14, 0, 4, 15, 11, 2, 5]\n",
            "[0, 1, 3, 6, 7, 8, 9, 10, 12, 13, 14, 4, 15, 11, 2, 5]\n",
            "[0, 1, 3, 4, 6, 7, 8, 9, 10, 12, 13, 14, 15, 11, 2, 5]\n",
            "[0, 1, 3, 4, 6, 7, 8, 9, 10, 12, 13, 14, 15, 11, 2, 5]\n",
            "[0, 1, 3, 4, 6, 7, 8, 9, 10, 11, 12, 13, 14, 15, 2, 5]\n",
            "[0, 1, 2, 3, 4, 6, 7, 8, 9, 10, 11, 12, 13, 14, 15, 5]\n",
            "[0, 1, 2, 3, 4, 5, 6, 7, 8, 9, 10, 11, 12, 13, 14, 15]\n",
            "------------------------------------------------\n"
          ],
          "name": "stdout"
        }
      ]
    }
  ]
}