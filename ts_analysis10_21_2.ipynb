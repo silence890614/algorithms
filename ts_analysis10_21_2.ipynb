{
  "nbformat": 4,
  "nbformat_minor": 0,
  "metadata": {
    "colab": {
      "name": "ts_analysis10.21-2",
      "provenance": [],
      "authorship_tag": "ABX9TyMIah+A3HstR7kQtp8pF96f",
      "include_colab_link": true
    },
    "kernelspec": {
      "name": "python3",
      "display_name": "Python 3"
    }
  },
  "cells": [
    {
      "cell_type": "markdown",
      "metadata": {
        "id": "view-in-github",
        "colab_type": "text"
      },
      "source": [
        "<a href=\"https://colab.research.google.com/github/silence890614/algorithms/blob/master/ts_analysis10_21_2.ipynb\" target=\"_parent\"><img src=\"https://colab.research.google.com/assets/colab-badge.svg\" alt=\"Open In Colab\"/></a>"
      ]
    },
    {
      "cell_type": "code",
      "metadata": {
        "id": "junP-Fm1AHXF",
        "outputId": "408830e9-468e-4e2c-ddd3-6b109e5deaf6",
        "colab": {
          "base_uri": "https://localhost:8080/",
          "height": 221
        }
      },
      "source": [
        "import random\n",
        "indexbox=10\n",
        "maxnum=7\n",
        "n=1\n",
        "def print_data(data,max_number):\n",
        "  print(\"\\t\",end=\"\")\n",
        "  for i in range(max_number):\n",
        "    print(\"[%2d}\"%data[i],end=\"\")\n",
        "  print()\n",
        "\n",
        "def create_table(num,index):\n",
        "  tmp=num%indexbox \n",
        "  n=1 \n",
        "  while True:\n",
        "    if index[tmp]==-1:\n",
        "      index[tmp]=num\n",
        "      break\n",
        "    else:\n",
        "      print(\"碰撞\")\n",
        "      tmp=(tmp+n3)%indexbox\n",
        "      n+1\n",
        "\n",
        "index=[None]*indexbox\n",
        "data=[None]*maxnum\n",
        "print(\"原始陣列值:\")\n",
        "for i in range(maxnum):\n",
        "  data[i]=random.randint(1,20)\n",
        "for i in range(indexbox):\n",
        "  index[i]=-1\n",
        "print_data(data,maxnum)\n",
        "\n",
        "print(\"雜湊表內容:\")\n",
        "for i in range(maxnum):\n",
        "  create_table(data[i],index)\n",
        "  print(\" %2d =>\"%data[i],end=\"\")\n",
        "  print_data(index,indexbox)\n",
        "print(\"完整雜湊表:\")\n",
        "print_data(index,indexbox)"
      ],
      "execution_count": 8,
      "outputs": [
        {
          "output_type": "stream",
          "text": [
            "原始陣列值:\n",
            "\t[ 9}[18}[ 2}[ 6}[10}[ 3}[11}\n",
            "雜湊表內容:\n",
            "  9 =>\t[-1}[-1}[-1}[-1}[-1}[-1}[-1}[-1}[-1}[ 9}\n",
            " 18 =>\t[-1}[-1}[-1}[-1}[-1}[-1}[-1}[-1}[18}[ 9}\n",
            "  2 =>\t[-1}[-1}[ 2}[-1}[-1}[-1}[-1}[-1}[18}[ 9}\n",
            "  6 =>\t[-1}[-1}[ 2}[-1}[-1}[-1}[ 6}[-1}[18}[ 9}\n",
            " 10 =>\t[10}[-1}[ 2}[-1}[-1}[-1}[ 6}[-1}[18}[ 9}\n",
            "  3 =>\t[10}[-1}[ 2}[ 3}[-1}[-1}[ 6}[-1}[18}[ 9}\n",
            " 11 =>\t[10}[11}[ 2}[ 3}[-1}[-1}[ 6}[-1}[18}[ 9}\n",
            "完整雜湊表:\n",
            "\t[10}[11}[ 2}[ 3}[-1}[-1}[ 6}[-1}[18}[ 9}\n"
          ],
          "name": "stdout"
        }
      ]
    }
  ]
}