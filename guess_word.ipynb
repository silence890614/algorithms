{
  "nbformat": 4,
  "nbformat_minor": 0,
  "metadata": {
    "colab": {
      "name": "guess word",
      "provenance": [],
      "authorship_tag": "ABX9TyOBtJGRKW6xi5aFrZ/Xo9No",
      "include_colab_link": true
    },
    "kernelspec": {
      "name": "python3",
      "display_name": "Python 3"
    }
  },
  "cells": [
    {
      "cell_type": "markdown",
      "metadata": {
        "id": "view-in-github",
        "colab_type": "text"
      },
      "source": [
        "<a href=\"https://colab.research.google.com/github/silence890614/algorithms/blob/master/guess_word.ipynb\" target=\"_parent\"><img src=\"https://colab.research.google.com/assets/colab-badge.svg\" alt=\"Open In Colab\"/></a>"
      ]
    },
    {
      "cell_type": "code",
      "metadata": {
        "id": "BsbPCJ8wNEy5"
      },
      "source": [
        "import random\n",
        "i = random.randint(1,101)\n",
        "a = 100\n",
        "b = 1\n",
        "\n",
        "while True:\n",
        "       \n",
        "        x = input(\"\")\n",
        "        x = int(x)\n",
        "        if x==i:\n",
        "            print(\"恭喜答對ㄌ\")\n",
        "            break\n",
        "        if x<i:\n",
        "            b = x\n",
        "            print(\"範圍縮小到\",b,\"到\",a)\n",
        "        if x>i:\n",
        "            a = x\n",
        "            print(\"範圍縮小到\",b,\"到\",a)\n",
        "\n"
      ],
      "execution_count": null,
      "outputs": []
    }
  ]
}