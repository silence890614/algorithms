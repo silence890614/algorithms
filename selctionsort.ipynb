{
  "nbformat": 4,
  "nbformat_minor": 0,
  "metadata": {
    "colab": {
      "name": "selctionsort.ipynb",
      "provenance": [],
      "collapsed_sections": [],
      "include_colab_link": true
    },
    "kernelspec": {
      "name": "python3",
      "display_name": "Python 3"
    }
  },
  "cells": [
    {
      "cell_type": "markdown",
      "metadata": {
        "id": "view-in-github",
        "colab_type": "text"
      },
      "source": [
        "<a href=\"https://colab.research.google.com/github/silence890614/algorithms/blob/master/selctionsort.ipynb\" target=\"_parent\"><img src=\"https://colab.research.google.com/assets/colab-badge.svg\" alt=\"Open In Colab\"/></a>"
      ]
    },
    {
      "cell_type": "markdown",
      "metadata": {
        "id": "W-Z0kMaDLJOp",
        "colab_type": "text"
      },
      "source": [
        "Selection sort (選擇排序)"
      ]
    },
    {
      "cell_type": "code",
      "metadata": {
        "id": "8tM3sv79HQ_V",
        "colab_type": "code",
        "colab": {
          "base_uri": "https://localhost:8080/",
          "height": 561
        },
        "outputId": "1d51a987-9876-47c8-80f2-b81ec18a1b42"
      },
      "source": [
        "def Selction_Sort(datas):\n",
        "    for i in range(len(datas)-1):\n",
        "        min = i # 第一次選從第一個數開始,第二次從第二個數開始\n",
        "        for j in range(i+1, len(datas)):    # 用記錄的max數與其他的比較\n",
        "            if datas[j] < datas[min]:\n",
        "                min = j\n",
        "\n",
        "        datas[i], datas[min] = datas[min], datas[i]\n",
        "\n",
        "        print(datas)\n",
        "        print('---'*16)\n",
        "    return datas\n",
        "\n",
        "\n",
        "if __name__ == '__main__':\n",
        "    import random\n",
        "    a = list(range(16))\n",
        "    random.shuffle(a)\n",
        "    print(a)\n",
        "    a = Selction_Sort(a)\n",
        "    print(a)"
      ],
      "execution_count": 1,
      "outputs": [
        {
          "output_type": "stream",
          "text": [
            "[7, 3, 9, 2, 11, 10, 8, 15, 5, 14, 13, 12, 6, 1, 0, 4]\n",
            "[0, 3, 9, 2, 11, 10, 8, 15, 5, 14, 13, 12, 6, 1, 7, 4]\n",
            "------------------------------------------------\n",
            "[0, 1, 9, 2, 11, 10, 8, 15, 5, 14, 13, 12, 6, 3, 7, 4]\n",
            "------------------------------------------------\n",
            "[0, 1, 2, 9, 11, 10, 8, 15, 5, 14, 13, 12, 6, 3, 7, 4]\n",
            "------------------------------------------------\n",
            "[0, 1, 2, 3, 11, 10, 8, 15, 5, 14, 13, 12, 6, 9, 7, 4]\n",
            "------------------------------------------------\n",
            "[0, 1, 2, 3, 4, 10, 8, 15, 5, 14, 13, 12, 6, 9, 7, 11]\n",
            "------------------------------------------------\n",
            "[0, 1, 2, 3, 4, 5, 8, 15, 10, 14, 13, 12, 6, 9, 7, 11]\n",
            "------------------------------------------------\n",
            "[0, 1, 2, 3, 4, 5, 6, 15, 10, 14, 13, 12, 8, 9, 7, 11]\n",
            "------------------------------------------------\n",
            "[0, 1, 2, 3, 4, 5, 6, 7, 10, 14, 13, 12, 8, 9, 15, 11]\n",
            "------------------------------------------------\n",
            "[0, 1, 2, 3, 4, 5, 6, 7, 8, 14, 13, 12, 10, 9, 15, 11]\n",
            "------------------------------------------------\n",
            "[0, 1, 2, 3, 4, 5, 6, 7, 8, 9, 13, 12, 10, 14, 15, 11]\n",
            "------------------------------------------------\n",
            "[0, 1, 2, 3, 4, 5, 6, 7, 8, 9, 10, 12, 13, 14, 15, 11]\n",
            "------------------------------------------------\n",
            "[0, 1, 2, 3, 4, 5, 6, 7, 8, 9, 10, 11, 13, 14, 15, 12]\n",
            "------------------------------------------------\n",
            "[0, 1, 2, 3, 4, 5, 6, 7, 8, 9, 10, 11, 12, 14, 15, 13]\n",
            "------------------------------------------------\n",
            "[0, 1, 2, 3, 4, 5, 6, 7, 8, 9, 10, 11, 12, 13, 15, 14]\n",
            "------------------------------------------------\n",
            "[0, 1, 2, 3, 4, 5, 6, 7, 8, 9, 10, 11, 12, 13, 14, 15]\n",
            "------------------------------------------------\n",
            "[0, 1, 2, 3, 4, 5, 6, 7, 8, 9, 10, 11, 12, 13, 14, 15]\n"
          ],
          "name": "stdout"
        }
      ]
    },
    {
      "cell_type": "markdown",
      "metadata": {
        "id": "MiWPt8bALDN5",
        "colab_type": "text"
      },
      "source": [
        "請加入註解\n"
      ]
    }
  ]
}