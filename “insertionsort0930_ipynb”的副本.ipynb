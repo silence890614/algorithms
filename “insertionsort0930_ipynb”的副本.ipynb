{
  "nbformat": 4,
  "nbformat_minor": 0,
  "metadata": {
    "colab": {
      "name": "“insertionsort0930.ipynb”的副本",
      "provenance": [],
      "collapsed_sections": [],
      "include_colab_link": true
    },
    "kernelspec": {
      "name": "python3",
      "display_name": "Python 3"
    }
  },
  "cells": [
    {
      "cell_type": "markdown",
      "metadata": {
        "id": "view-in-github",
        "colab_type": "text"
      },
      "source": [
        "<a href=\"https://colab.research.google.com/github/silence890614/algorithms/blob/master/%E2%80%9Cinsertionsort0930_ipynb%E2%80%9D%E7%9A%84%E5%89%AF%E6%9C%AC.ipynb\" target=\"_parent\"><img src=\"https://colab.research.google.com/assets/colab-badge.svg\" alt=\"Open In Colab\"/></a>"
      ]
    },
    {
      "cell_type": "markdown",
      "metadata": {
        "id": "j95w6SLwOC0z"
      },
      "source": [
        "Insertion sort (插入排序)"
      ]
    },
    {
      "cell_type": "code",
      "metadata": {
        "id": "BxBaYEwzNj_v",
        "outputId": "6e34800d-d640-46d4-b038-ef058076cd37",
        "colab": {
          "base_uri": "https://localhost:8080/",
          "height": 488
        }
      },
      "source": [
        "\n",
        "def Insertion_Sort(datas):\n",
        "    for i in range(1, len(datas)):   #n \n",
        "        for j in range(i):      #n(n-1)\n",
        "            current = datas[i] #(n-1)(n-1)\n",
        "            if current < datas[j]: \n",
        "                for k in range(i,j):  #n(n-1)\n",
        "                  print(datas) \n",
        "    return datas            #1\n",
        "    #n+n(n-1)+(n-1)(n-1)+n(n-1)+1 #O(n^2)\n",
        "\n",
        "\n",
        "def insertionSort(arr):\n",
        "    for i in range(len(arr)): \n",
        "        preIndex = i-1   \n",
        "        current = arr[i]\n",
        "        while preIndex >= 0 and arr[preIndex] > current:\n",
        "            arr[preIndex+1] = arr[preIndex]\n",
        "            preIndex-=1\n",
        "        arr[preIndex+1] = current\n",
        "        print(arr)\n",
        "    return arr\n",
        "\n",
        "if __name__ == '__main__':\n",
        "    import random\n",
        "    a = list(range(16))\n",
        "    random.shuffle(a)\n",
        "    b = a.copy()\n",
        "\n",
        "    arr = insertionSort(a)\n",
        "    print('---'*16)\n",
        "    Insertion_Sort(b)\n",
        "  "
      ],
      "execution_count": null,
      "outputs": [
        {
          "output_type": "stream",
          "text": [
            "[11, 10, 4, 0, 5, 7, 9, 15, 14, 2, 12, 3, 8, 1, 13, 6]\n",
            "[10, 11, 4, 0, 5, 7, 9, 15, 14, 2, 12, 3, 8, 1, 13, 6]\n",
            "[4, 10, 11, 0, 5, 7, 9, 15, 14, 2, 12, 3, 8, 1, 13, 6]\n",
            "[0, 4, 10, 11, 5, 7, 9, 15, 14, 2, 12, 3, 8, 1, 13, 6]\n",
            "[0, 4, 5, 10, 11, 7, 9, 15, 14, 2, 12, 3, 8, 1, 13, 6]\n",
            "[0, 4, 5, 7, 10, 11, 9, 15, 14, 2, 12, 3, 8, 1, 13, 6]\n",
            "[0, 4, 5, 7, 9, 10, 11, 15, 14, 2, 12, 3, 8, 1, 13, 6]\n",
            "[0, 4, 5, 7, 9, 10, 11, 15, 14, 2, 12, 3, 8, 1, 13, 6]\n",
            "[0, 4, 5, 7, 9, 10, 11, 14, 15, 2, 12, 3, 8, 1, 13, 6]\n",
            "[0, 2, 4, 5, 7, 9, 10, 11, 14, 15, 12, 3, 8, 1, 13, 6]\n",
            "[0, 2, 4, 5, 7, 9, 10, 11, 12, 14, 15, 3, 8, 1, 13, 6]\n",
            "[0, 2, 3, 4, 5, 7, 9, 10, 11, 12, 14, 15, 8, 1, 13, 6]\n",
            "[0, 2, 3, 4, 5, 7, 8, 9, 10, 11, 12, 14, 15, 1, 13, 6]\n",
            "[0, 1, 2, 3, 4, 5, 7, 8, 9, 10, 11, 12, 14, 15, 13, 6]\n",
            "[0, 1, 2, 3, 4, 5, 7, 8, 9, 10, 11, 12, 13, 14, 15, 6]\n",
            "[0, 1, 2, 3, 4, 5, 6, 7, 8, 9, 10, 11, 12, 13, 14, 15]\n",
            "------------------------------------------------\n"
          ],
          "name": "stdout"
        },
        {
          "output_type": "error",
          "ename": "NameError",
          "evalue": "ignored",
          "traceback": [
            "\u001b[0;31m---------------------------------------------------------------------------\u001b[0m",
            "\u001b[0;31mNameError\u001b[0m                                 Traceback (most recent call last)",
            "\u001b[0;32m<ipython-input-2-829a538aa10d>\u001b[0m in \u001b[0;36m<module>\u001b[0;34m()\u001b[0m\n\u001b[1;32m     31\u001b[0m     \u001b[0mprint\u001b[0m\u001b[0;34m(\u001b[0m\u001b[0;34m'---'\u001b[0m\u001b[0;34m*\u001b[0m\u001b[0;36m16\u001b[0m\u001b[0;34m)\u001b[0m\u001b[0;34m\u001b[0m\u001b[0;34m\u001b[0m\u001b[0m\n\u001b[1;32m     32\u001b[0m     \u001b[0mInsertion_Sort\u001b[0m\u001b[0;34m(\u001b[0m\u001b[0mb\u001b[0m\u001b[0;34m)\u001b[0m\u001b[0;34m\u001b[0m\u001b[0;34m\u001b[0m\u001b[0m\n\u001b[0;32m---> 33\u001b[0;31m     \u001b[0mprint\u001b[0m\u001b[0;34m(\u001b[0m\u001b[0mdatas\u001b[0m\u001b[0;34m)\u001b[0m\u001b[0;34m\u001b[0m\u001b[0;34m\u001b[0m\u001b[0m\n\u001b[0m",
            "\u001b[0;31mNameError\u001b[0m: name 'datas' is not defined"
          ]
        }
      ]
    }
  ]
}