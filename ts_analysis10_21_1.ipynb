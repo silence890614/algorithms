{
  "nbformat": 4,
  "nbformat_minor": 0,
  "metadata": {
    "colab": {
      "name": "ts_analysis10.21-1",
      "provenance": [],
      "authorship_tag": "ABX9TyNXaZ9N/BqdS4OZYDQGmTju",
      "include_colab_link": true
    },
    "kernelspec": {
      "name": "python3",
      "display_name": "Python 3"
    }
  },
  "cells": [
    {
      "cell_type": "markdown",
      "metadata": {
        "id": "view-in-github",
        "colab_type": "text"
      },
      "source": [
        "<a href=\"https://colab.research.google.com/github/silence890614/algorithms/blob/master/ts_analysis10_21_1.ipynb\" target=\"_parent\"><img src=\"https://colab.research.google.com/assets/colab-badge.svg\" alt=\"Open In Colab\"/></a>"
      ]
    },
    {
      "cell_type": "code",
      "metadata": {
        "id": "903An2vDH4wk",
        "outputId": "612b18c7-b1b1-493a-87bc-61b5cc815feb",
        "colab": {
          "base_uri": "https://localhost:8080/",
          "height": 289
        }
      },
      "source": [
        "import random\n",
        "indexbox=10\n",
        "maxnum=7\n",
        "\n",
        "def print_data(data,max_number):\n",
        "  print(\"\\t\",end=\"\")\n",
        "  for i in range(max_number):\n",
        "    print(\"[%2d}\"%data[i],end=\"\")\n",
        "  print()\n",
        "\n",
        "def create_table(num,index):\n",
        "  tmp=num%indexbox\n",
        "  n=1\n",
        "  while True:\n",
        "\n",
        "    if index[tmp]==-1:\n",
        "      index[tmp]=num\n",
        "      break\n",
        "    else:\n",
        "      print(\"碰撞\")\n",
        "      tmp=num%indexbox\n",
        "      tmp=(tmp+n*2)%indexbox\n",
        "      n+=1\n",
        "\n",
        "index=[None]*indexbox\n",
        "data=[None]*maxnum\n",
        "print(\"原始陣列值:\")\n",
        "for i in range(maxnum):\n",
        "  data[i]=random.randint(1,20)\n",
        "for i in range(indexbox):\n",
        "  index[i]=-1\n",
        "print_data(data,maxnum)\n",
        "\n",
        "print(\"雜湊表內容:\")\n",
        "for i in range(maxnum):\n",
        "  create_table(data[i],index)\n",
        "  print(\" %2d =>\"%data[i],end=\"\")\n",
        "  print_data(index,indexbox)\n",
        "print(\"完整雜湊表:\")\n",
        "print_data(index,indexbox)"
      ],
      "execution_count": 1,
      "outputs": [
        {
          "output_type": "stream",
          "text": [
            "原始陣列值:\n",
            "\t[13}[11}[12}[14}[11}[17}[12}\n",
            "雜湊表內容:\n",
            " 13 =>\t[-1}[-1}[-1}[13}[-1}[-1}[-1}[-1}[-1}[-1}\n",
            " 11 =>\t[-1}[11}[-1}[13}[-1}[-1}[-1}[-1}[-1}[-1}\n",
            " 12 =>\t[-1}[11}[12}[13}[-1}[-1}[-1}[-1}[-1}[-1}\n",
            " 14 =>\t[-1}[11}[12}[13}[14}[-1}[-1}[-1}[-1}[-1}\n",
            "碰撞\n",
            "碰撞\n",
            " 11 =>\t[-1}[11}[12}[13}[14}[11}[-1}[-1}[-1}[-1}\n",
            " 17 =>\t[-1}[11}[12}[13}[14}[11}[-1}[17}[-1}[-1}\n",
            "碰撞\n",
            "碰撞\n",
            " 12 =>\t[-1}[11}[12}[13}[14}[11}[12}[17}[-1}[-1}\n",
            "完整雜湊表:\n",
            "\t[-1}[11}[12}[13}[14}[11}[12}[17}[-1}[-1}\n"
          ],
          "name": "stdout"
        }
      ]
    }
  ]
}