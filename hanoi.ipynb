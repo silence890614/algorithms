{
  "nbformat": 4,
  "nbformat_minor": 0,
  "metadata": {
    "colab": {
      "name": "hanoi",
      "provenance": [],
      "authorship_tag": "ABX9TyPhpLFLXmNRMFnBNpRrEq22",
      "include_colab_link": true
    },
    "kernelspec": {
      "name": "python3",
      "display_name": "Python 3"
    }
  },
  "cells": [
    {
      "cell_type": "markdown",
      "metadata": {
        "id": "view-in-github",
        "colab_type": "text"
      },
      "source": [
        "<a href=\"https://colab.research.google.com/github/silence890614/algorithms/blob/master/hanoi.ipynb\" target=\"_parent\"><img src=\"https://colab.research.google.com/assets/colab-badge.svg\" alt=\"Open In Colab\"/></a>"
      ]
    },
    {
      "cell_type": "code",
      "metadata": {
        "id": "g3ZpMa5KM7gN"
      },
      "source": [
        "def hanoi(n, A, B, C):\n",
        "    if n == 1:\n",
        "        print(str(n) + \"號圈：\" + A + \"→\" + C)\n",
        "    else:\n",
        "        hanoi(n-1, A, C, B)\n",
        "        print(str(n) + \"號圈：\" + A + \"→\" + C)\n",
        "        hanoi(n-1, B, A, C)\n",
        "\n",
        "ringNum = int(input(\"請輸入圈圈數：\"))\n",
        "hanoi(ringNum, \"A\", \"B\", \"C\")\n"
      ],
      "execution_count": null,
      "outputs": []
    }
  ]
}